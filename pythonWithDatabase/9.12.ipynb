{
 "cells": [
  {
   "cell_type": "code",
   "execution_count": 2,
   "metadata": {},
   "outputs": [
    {
     "name": "stdout",
     "output_type": "stream",
     "text": [
      "Network System            นางกนก นำชัยมา\n",
      "Data Structure            นางกนก นำชัยมา\n",
      "Basic Programming         นางกนก นำชัยมา\n",
      "Database and Design       นางนภาพร ศรีไพรงาม\n",
      "Database System           นางนภาพร ศรีไพรงาม\n",
      "Information Technologies  นายมงคล ศรีอำพันธ์\n",
      "Big Data Technologies     นายมารุต มาตย์มี\n",
      "Big Data Analytic         นายมารุต มาตย์มี\n",
      "Information Technologies  นายมงคล ศรีอำพันธ์\n"
     ]
    }
   ],
   "source": [
    "import pymysql\n",
    "try:\n",
    "    con = pymysql.connect(host=\"localhost\", user=\"root\", passwd=\"1234\", \n",
    "                          db=\"register\", charset=\"utf8\")\n",
    "    cs = con.cursor()\n",
    "    cs.execute(\"\"\"SELECT subject_name, f_name, l_name FROM subjects, teachers\n",
    "                    WHERE subjects.teacher_id = teachers.teacher_id\"\"\")\n",
    "\n",
    "except pymysql.err.OperationalError:\n",
    "    print (\"ไม่สามารถติดต่อฐานข้อมูลได้ !!!\")\n",
    "except pymysql.err.ProgrammingError:\n",
    "    print (\"คำสั่ง SQL ไม่ถูกต้อง !!!\")\n",
    "else:\n",
    "    data = cs.fetchall()\n",
    "    for (subject_name, f_name, l_name) in data:\n",
    "        print(\"{:25} {} {}\".format(subject_name, f_name, l_name))\n",
    "    con.close()\n",
    "    cs.close()"
   ]
  },
  {
   "cell_type": "code",
   "execution_count": null,
   "metadata": {},
   "outputs": [],
   "source": []
  }
 ],
 "metadata": {
  "kernelspec": {
   "display_name": "Python 3",
   "language": "python",
   "name": "python3"
  },
  "language_info": {
   "codemirror_mode": {
    "name": "ipython",
    "version": 3
   },
   "file_extension": ".py",
   "mimetype": "text/x-python",
   "name": "python",
   "nbconvert_exporter": "python",
   "pygments_lexer": "ipython3",
   "version": "3.7.4"
  }
 },
 "nbformat": 4,
 "nbformat_minor": 2
}
