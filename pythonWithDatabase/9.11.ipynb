{
 "cells": [
  {
   "cell_type": "code",
   "execution_count": 2,
   "metadata": {},
   "outputs": [
    {
     "name": "stdout",
     "output_type": "stream",
     "text": [
      "subject_id     subject_name        unit      teacher_id\n",
      "110            Information Technologies3         103\n"
     ]
    }
   ],
   "source": [
    "import pymysql\n",
    "try:\n",
    "    con = pymysql.connect(host=\"localhost\", user=\"root\", passwd=\"1234\", \n",
    "                          db=\"register\", charset=\"utf8\")\n",
    "    cs = con.cursor()\n",
    "    # เลือกแสดงผลรหัสอาจารย์ 103 จากตาราง subjects\n",
    "    cs.execute(\"SELECT * FROM subjects where teacher_id = 103\") \n",
    "\n",
    "except pymysql.err.OperationalError:\n",
    "    print (\"ไม่สามารถติดต่อฐานข้อมูลได้ !!!\")\n",
    "except pymysql.err.ProgrammingError:\n",
    "    print (\"คำสั่ง SQL ไม่ถูกต้อง !!!\")\n",
    "else:\n",
    "    print(\"{:<15}{:<20}{:<10}{}\".format(\"subject_id\", \"subject_name\", \n",
    "                                        \"unit\", \"teacher_id\"))\n",
    "    data = cs.fetchall()\n",
    "    for (subject_id, subject_name, unit, teacher_id) in data:\n",
    "        print(\"{:<15}{:<20}{:<10}{}\".format(subject_id, subject_name, \n",
    "                                            unit, teacher_id))\n",
    "    con.close()\n",
    "    cs.close()"
   ]
  },
  {
   "cell_type": "code",
   "execution_count": null,
   "metadata": {},
   "outputs": [],
   "source": []
  }
 ],
 "metadata": {
  "kernelspec": {
   "display_name": "Python 3",
   "language": "python",
   "name": "python3"
  },
  "language_info": {
   "codemirror_mode": {
    "name": "ipython",
    "version": 3
   },
   "file_extension": ".py",
   "mimetype": "text/x-python",
   "name": "python",
   "nbconvert_exporter": "python",
   "pygments_lexer": "ipython3",
   "version": "3.7.4"
  }
 },
 "nbformat": 4,
 "nbformat_minor": 2
}
