{
 "cells": [
  {
   "cell_type": "code",
   "execution_count": 1,
   "metadata": {},
   "outputs": [
    {
     "name": "stdout",
     "output_type": "stream",
     "text": [
      "ลบฐานข้อมูลเรียบร้อยแล้ว !!!\n"
     ]
    }
   ],
   "source": [
    "import pymysql\n",
    "\n",
    "try:\n",
    "    con = pymysql.connect(host=\"localhost\", user=\"root\", passwd=\"1234\")\n",
    "    cs = con.cursor()\n",
    "    cs.execute(\"DROP DATABASE register\")\n",
    "    con.close()\n",
    "    cs.close()\n",
    "except pymysql.err.OperationalError:\n",
    "    print(\"ไม่สามารถติดต่อฐานข้อมูลได้ !!!\")\n",
    "except pymysql.err.ProgrammingError:\n",
    "    print(\"คำสั่ง SQL ไม่ถูกต้อง !!!\")\n",
    "except:\n",
    "    print(\"ไม่ปรากฏฐานชื่อข้อมูลที่ต้องการลบ\")\n",
    "else:\n",
    "    print(\"ลบฐานข้อมูลเรียบร้อยแล้ว !!!\")"
   ]
  },
  {
   "cell_type": "code",
   "execution_count": null,
   "metadata": {},
   "outputs": [],
   "source": []
  }
 ],
 "metadata": {
  "kernelspec": {
   "display_name": "Python 3",
   "language": "python",
   "name": "python3"
  },
  "language_info": {
   "codemirror_mode": {
    "name": "ipython",
    "version": 3
   },
   "file_extension": ".py",
   "mimetype": "text/x-python",
   "name": "python",
   "nbconvert_exporter": "python",
   "pygments_lexer": "ipython3",
   "version": "3.7.4"
  }
 },
 "nbformat": 4,
 "nbformat_minor": 2
}
