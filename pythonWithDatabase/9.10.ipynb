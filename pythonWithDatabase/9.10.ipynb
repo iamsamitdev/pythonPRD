{
 "cells": [
  {
   "cell_type": "code",
   "execution_count": 2,
   "metadata": {},
   "outputs": [
    {
     "name": "stdout",
     "output_type": "stream",
     "text": [
      "(10001, 'นายสิงห์', 'พงไพร', 'sing@gmail.com', '0873448786')\n",
      "(10002, 'นางสาวรุจิรา', 'คำมั่งมี', 'rugira@gmail.com', '0897672312')\n",
      "(10003, 'นายคงคิด', 'มีนามาก', 'kongkid@gmail.com', '0873122344')\n",
      "(10004, 'นางสาววัชราพร', 'จิตรจันทร์ดี', 'watcharaporn@gmail.com', '0884553323')\n",
      "(10005, 'นายกานต์', 'ยินดีสุข', 'kan@gmail.com', '0873648979')\n"
     ]
    }
   ],
   "source": [
    "import pymysql\n",
    "try:\n",
    "    con = pymysql.connect(host=\"localhost\", user=\"root\", \n",
    "                          passwd=\"1234\", db=\"register\", charset=\"utf8\")\n",
    "    cs = con.cursor()\n",
    "    cs.execute(\"SELECT * FROM students\")\n",
    "\n",
    "except pymysql.err.OperationalError:\n",
    "    print (\"ไม่สามารถติดต่อฐานข้อมูลได้ !!!\")\n",
    "except pymysql.err.ProgrammingError:\n",
    "    print (\"คำสั่ง SQL ไม่ถูกต้อง !!!\")\n",
    "else:\n",
    "    data = cs.fetchmany(5) # ใช้เมธอด fetchmany แสดงผล 5 เรคอร์ด\n",
    "    for i in data:\n",
    "        print (i)\n",
    "    con.close()\n",
    "    cs.close()"
   ]
  },
  {
   "cell_type": "code",
   "execution_count": null,
   "metadata": {},
   "outputs": [],
   "source": []
  }
 ],
 "metadata": {
  "kernelspec": {
   "display_name": "Python 3",
   "language": "python",
   "name": "python3"
  },
  "language_info": {
   "codemirror_mode": {
    "name": "ipython",
    "version": 3
   },
   "file_extension": ".py",
   "mimetype": "text/x-python",
   "name": "python",
   "nbconvert_exporter": "python",
   "pygments_lexer": "ipython3",
   "version": "3.7.4"
  }
 },
 "nbformat": 4,
 "nbformat_minor": 2
}
