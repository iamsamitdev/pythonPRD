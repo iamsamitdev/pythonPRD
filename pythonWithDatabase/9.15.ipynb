{
 "cells": [
  {
   "cell_type": "code",
   "execution_count": 1,
   "metadata": {},
   "outputs": [
    {
     "name": "stdout",
     "output_type": "stream",
     "text": [
      "ลบข้อมูลเรียบร้อยแล้ว !!!\n"
     ]
    }
   ],
   "source": [
    "import pymysql\n",
    "\n",
    "try:\n",
    "    con = pymysql.connect(host=\"localhost\", user=\"root\", passwd=\"1234\", \n",
    "                          db=\"register\", charset=\"utf8\")\n",
    "    cs = con.cursor()\n",
    "    cs.execute(\"\"\"DELETE FROM registers WHERE student_id = 10001 \"\"\")\n",
    "    con.commit()\n",
    "    con.close()\n",
    "    cs.close()\n",
    "\n",
    "except pymysql.err.OperationalError:\n",
    "    print(\"ไม่สามารถติดต่อฐานข้อมูลได้ !!!\")\n",
    "except pymysql.err.ProgrammingError:\n",
    "    print(\"คำสั่ง SQL ไม่ถูกต้อง !!!\")\n",
    "    con.rollback()\n",
    "else:\n",
    "    print(\"ลบข้อมูลเรียบร้อยแล้ว !!!\")"
   ]
  },
  {
   "cell_type": "code",
   "execution_count": null,
   "metadata": {},
   "outputs": [],
   "source": []
  }
 ],
 "metadata": {
  "kernelspec": {
   "display_name": "Python 3",
   "language": "python",
   "name": "python3"
  },
  "language_info": {
   "codemirror_mode": {
    "name": "ipython",
    "version": 3
   },
   "file_extension": ".py",
   "mimetype": "text/x-python",
   "name": "python",
   "nbconvert_exporter": "python",
   "pygments_lexer": "ipython3",
   "version": "3.7.4"
  }
 },
 "nbformat": 4,
 "nbformat_minor": 2
}
