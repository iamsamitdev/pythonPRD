{
 "cells": [
  {
   "cell_type": "code",
   "execution_count": 1,
   "metadata": {},
   "outputs": [
    {
     "name": "stdout",
     "output_type": "stream",
     "text": [
      "(10010, 'นายกานต์', 'ยินดีสุข', 'kan@gmail.com', '0873648979')\n"
     ]
    }
   ],
   "source": [
    "import pymysql\n",
    "\n",
    "try:\n",
    "    con = pymysql.connect(host=\"localhost\", user=\"root\", passwd=\"1234\", \n",
    "                          db=\"register\", charset=\"utf8\")\n",
    "    cs = con.cursor()\n",
    "    # คำสั่ง sql ซึ่งเป็นใช้คำสั่งแสดงผลข้อมูลในตาราง students\n",
    "    cs.execute(\"SELECT * FROM students\") \n",
    "\n",
    "except pymysql.err.OperationalError:\n",
    "    print (\"ไม่สามารถติดต่อฐานข้อมูลได้ !!!\")\n",
    "except pymysql.err.ProgrammingError:\n",
    "    print (\"คำสั่ง SQL ไม่ถูกต้อง !!!\")\n",
    "else:\n",
    "    data = cs.fetchone() # ใช้เมธอด fetchone() อ่านข้อมูลเพียง 1 เรคอร์ด\n",
    "    print (data)\n",
    "    con.close()\n",
    "    cs.close()"
   ]
  },
  {
   "cell_type": "code",
   "execution_count": null,
   "metadata": {},
   "outputs": [],
   "source": []
  }
 ],
 "metadata": {
  "kernelspec": {
   "display_name": "Python 3",
   "language": "python",
   "name": "python3"
  },
  "language_info": {
   "codemirror_mode": {
    "name": "ipython",
    "version": 3
   },
   "file_extension": ".py",
   "mimetype": "text/x-python",
   "name": "python",
   "nbconvert_exporter": "python",
   "pygments_lexer": "ipython3",
   "version": "3.7.4"
  }
 },
 "nbformat": 4,
 "nbformat_minor": 2
}
