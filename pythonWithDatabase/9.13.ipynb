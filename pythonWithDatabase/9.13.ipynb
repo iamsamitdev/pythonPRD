{
 "cells": [
  {
   "cell_type": "code",
   "execution_count": 4,
   "metadata": {},
   "outputs": [
    {
     "name": "stdout",
     "output_type": "stream",
     "text": [
      "10001, นายสิงห์ พงไพร, 101, Network System, 2\n",
      "10001, นายสิงห์ พงไพร, 104, Database and Design, 2\n",
      "10002, นางสาวรุจิรา คำมั่งมี, 101, Network System, 2\n",
      "10002, นางสาวรุจิรา คำมั่งมี, 102, Data Structure, 2\n",
      "10002, นางสาวรุจิรา คำมั่งมี, 104, Database and Design, 2\n",
      " \n",
      "จำนวนทั้งหมด = 5 รายการ\n"
     ]
    }
   ],
   "source": [
    "import pymysql\n",
    "\n",
    "try:\n",
    "    con = pymysql.connect(host=\"localhost\", user=\"root\", passwd=\"1234\", \n",
    "                          db=\"register\", charset=\"utf8\")\n",
    "    cs = con.cursor()\n",
    "    cs.execute(\"\"\"SELECT students.student_id, students.f_name, \n",
    "                  students.l_name, subjects.subject_id, \n",
    "                  subjects.subject_name, registers.semester\n",
    "                  FROM students, subjects, registers\n",
    "                  WHERE registers.student_id = students.student_id AND \n",
    "                  registers.subject_id = subjects.subject_id AND \n",
    "                  semester = 2\"\"\")\n",
    "\n",
    "except pymysql.err.OperationalError:\n",
    "    print (\"ไม่สามารถติดต่อฐานข้อมูลได้ !!!\")\n",
    "except pymysql.err.ProgrammingError:\n",
    "    print (\"คำสั่ง SQL ไม่ถูกต้อง !!!\")\n",
    "else:\n",
    "    data = cs.fetchall(5)\n",
    "    for (st_id, st_f, st_l, sub_id, sub_name, year) in data:\n",
    "        print(\"{}, {} {}, {}, {}, {}\".format(st_id, st_f, st_l, \n",
    "                                             sub_id, sub_name, year))\n",
    "    print (\" \")\n",
    "    print(\"จำนวนทั้งหมด =\", cs.rowcount, \"รายการ\")\n",
    "    con.close()\n",
    "    cs.close()"
   ]
  },
  {
   "cell_type": "code",
   "execution_count": null,
   "metadata": {},
   "outputs": [],
   "source": []
  }
 ],
 "metadata": {
  "kernelspec": {
   "display_name": "Python 3",
   "language": "python",
   "name": "python3"
  },
  "language_info": {
   "codemirror_mode": {
    "name": "ipython",
    "version": 3
   },
   "file_extension": ".py",
   "mimetype": "text/x-python",
   "name": "python",
   "nbconvert_exporter": "python",
   "pygments_lexer": "ipython3",
   "version": "3.7.4"
  }
 },
 "nbformat": 4,
 "nbformat_minor": 2
}
