{
 "cells": [
  {
   "cell_type": "code",
   "execution_count": null,
   "metadata": {},
   "outputs": [],
   "source": [
    "from tkinter import * # โหลดโมดูล tkinter เข้ามายังโปรแกรมทุกคลาส\n",
    "from tkinter import ttk # โหลดโมดูล tkinter โดย import คลาส ttk\n",
    "import pymysql # โหลดโมดูล pymysql ติดต่อฐานข้อมูล\n",
    "\n",
    "mainFrm = Tk() # สร้างออบเจ็ค mainfrm\n",
    "mainFrm.title(\"ระบบลงทะเบียนเรียน\") # แสดงข้อความที่ title bar\n",
    "ttk.Frame(mainFrm, height=300, width=300).pack()    # กำหนดขนาดเฟรม\n",
    "mainFrm.resizable(width=0, height=0)   # กำหนดไม่ให้มีการขยายหน้าต่างได้\n",
    "\n",
    "#  คำสั่งเพิ่มรูปภาพภายในเมนู\n",
    "imgTcr = PhotoImage(file=\"D:\\Icon\\lecher.png\")\n",
    "imgSbj = PhotoImage(file=\"D:\\Icon\\subject.png\")\n",
    "imgStd = PhotoImage(file=\"D:\\Icon\\student.png\")\n",
    "imgRegis = PhotoImage(file=\"D:\\Icon\\register.png\")\n",
    "imgClose = PhotoImage(file=\"D:\\Icon\\close.png\")\n",
    "ttk.Frame(mainFrm, height=230, width=300).pack()\n",
    "\n",
    "# สร้างปุ่มทั้งหมด 5 เมนู ด้วย button widget\n",
    "ttk.Button(mainFrm, text=\"อาจารย์ผู้สอน\",image=imgTcr, compound=\"left\", command=teacher)\\\n",
    "    .place(height=50, width=120, x=100, y=20)\n",
    "ttk.Button(mainFrm, text=\"วิชาเรียน\", image=imgSbj, compound=\"left\")\\\n",
    "    .place(height=50, width=120, x=100, y=70)\n",
    "ttk.Button(mainFrm, text=\"นักศึกษา\", image=imgStd, compound=\"left\")\\\n",
    "    .place(height=50, width=120, x=100, y=120)\n",
    "ttk.Button(mainFrm, text=\"ลงทะเบียนเรียน\",  image=imgRegis, compound=\"left\")\\\n",
    "    .place(height=50, width=120, x=100, y=170)\n",
    "ttk.Button(mainFrm, text=\"ปิดโปรแกรม\", command=mainFrm.destroy, image=imgClose, compound=\"left\")\\\n",
    "    .place(height=50, width=120, x=100, y=230) \n",
    "\n",
    "# คำสั่งแสดงผลหน้า GUI\n",
    "mainFrm.mainloop()"
   ]
  },
  {
   "cell_type": "code",
   "execution_count": null,
   "metadata": {},
   "outputs": [],
   "source": []
  }
 ],
 "metadata": {
  "kernelspec": {
   "display_name": "Python 3",
   "language": "python",
   "name": "python3"
  },
  "language_info": {
   "codemirror_mode": {
    "name": "ipython",
    "version": 3
   },
   "file_extension": ".py",
   "mimetype": "text/x-python",
   "name": "python",
   "nbconvert_exporter": "python",
   "pygments_lexer": "ipython3",
   "version": "3.7.4"
  }
 },
 "nbformat": 4,
 "nbformat_minor": 2
}
