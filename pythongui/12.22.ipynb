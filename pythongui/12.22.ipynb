{
 "cells": [
  {
   "cell_type": "code",
   "execution_count": 1,
   "metadata": {},
   "outputs": [],
   "source": [
    "from tkinter import *\n",
    "from tkinter import ttk\n",
    "mainfrm = Tk()\n",
    "\n",
    "frmTop = ttk.Frame(mainfrm, relief=\"groove\", borderwidth=5)\n",
    "frmTop.pack()\n",
    "\n",
    "frmBottom = ttk.Frame(mainfrm, relief=\"groove\", borderwidth=5)\n",
    "frmBottom.pack()\n",
    "\n",
    "ttk.Button(frmTop, text=\"Entry1\").pack()\n",
    "\n",
    "ttk.Button(frmBottom, text=\"Entry2\").pack(side=\"right\")\n",
    "ttk.Button(frmBottom, text=\"Entry3\").pack(side=\"left\")\n",
    "\n",
    "mainfrm.mainloop()"
   ]
  },
  {
   "cell_type": "code",
   "execution_count": null,
   "metadata": {},
   "outputs": [],
   "source": []
  }
 ],
 "metadata": {
  "kernelspec": {
   "display_name": "Python 3",
   "language": "python",
   "name": "python3"
  },
  "language_info": {
   "codemirror_mode": {
    "name": "ipython",
    "version": 3
   },
   "file_extension": ".py",
   "mimetype": "text/x-python",
   "name": "python",
   "nbconvert_exporter": "python",
   "pygments_lexer": "ipython3",
   "version": "3.7.4"
  }
 },
 "nbformat": 4,
 "nbformat_minor": 2
}
