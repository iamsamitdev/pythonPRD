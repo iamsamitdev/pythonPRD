{
 "cells": [
  {
   "cell_type": "code",
   "execution_count": null,
   "metadata": {
    "scrolled": true
   },
   "outputs": [],
   "source": [
    "import tkinter as tk\n",
    "from tkinter import ttk\n",
    "\n",
    "mainfrm = tk.Tk()\n",
    "ttk.Frame(height=110, width=260).pack()\n",
    "# สร้างออบเจ็ค\n",
    "imgSave = tk.PhotoImage(file=\"D:\\PythonFiles\\img\\save.png\")\n",
    "imgClose = tk.PhotoImage(file=\"D:\\PythonFiles\\img\\close.png\")\n",
    "imgPrinter = tk.PhotoImage(file=\"D:\\PythonFiles\\img\\printer.png\")\n",
    "# อ้างอิงชื่อออบเจ็คและเพิ่มออปชัน image สำหรับการแสดงผล\n",
    "ttk.Button(mainfrm, image=imgSave).place(x=10, y=20)\n",
    "ttk.Button(mainfrm, image=imgClose).place(x=90, y=20)\n",
    "ttk.Button(mainfrm, image=imgPrinter).place(x=170, y=20)\n",
    "\n",
    "mainfrm.mainloop()"
   ]
  }
 ],
 "metadata": {
  "kernelspec": {
   "display_name": "Python 3",
   "language": "python",
   "name": "python3"
  },
  "language_info": {
   "codemirror_mode": {
    "name": "ipython",
    "version": 3
   },
   "file_extension": ".py",
   "mimetype": "text/x-python",
   "name": "python",
   "nbconvert_exporter": "python",
   "pygments_lexer": "ipython3",
   "version": "3.7.4"
  }
 },
 "nbformat": 4,
 "nbformat_minor": 2
}
