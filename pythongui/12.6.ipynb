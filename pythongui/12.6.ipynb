{
 "cells": [
  {
   "cell_type": "code",
   "execution_count": 2,
   "metadata": {},
   "outputs": [],
   "source": [
    "from tkinter import *\n",
    "from tkinter import ttk\n",
    "\n",
    "mainfrm = Tk()\n",
    "\n",
    "# สร้างออบเจ็คปุ่ม Button widget จัดตำแหน่งปุ่ม Button widget ทั้ง 3 ปุ่ม \n",
    "# โดยใช้เมธอด grid() ให้มีระยะห่างจากขอบแกน x ด้วย padx=10 และแกน y ด้วย pady=10\n",
    "btnEnter = ttk.Button(mainfrm, text=\"Enter\").grid(column=0, \n",
    "                                                row=0, padx=10, pady=10)\n",
    "btnCancel = ttk.Button(mainfrm, text=\"Cencel\").grid(column=1, \n",
    "                                                row=0, padx=10, pady=10)\n",
    "btnClear = ttk.Button(mainfrm, text=\"Clear\").grid(column=2, \n",
    "                                                row=0, padx=10, pady=10)\n",
    "\n",
    "mainfrm.mainloop()"
   ]
  },
  {
   "cell_type": "code",
   "execution_count": null,
   "metadata": {},
   "outputs": [],
   "source": []
  }
 ],
 "metadata": {
  "kernelspec": {
   "display_name": "Python 3",
   "language": "python",
   "name": "python3"
  },
  "language_info": {
   "codemirror_mode": {
    "name": "ipython",
    "version": 3
   },
   "file_extension": ".py",
   "mimetype": "text/x-python",
   "name": "python",
   "nbconvert_exporter": "python",
   "pygments_lexer": "ipython3",
   "version": "3.7.4"
  }
 },
 "nbformat": 4,
 "nbformat_minor": 2
}
