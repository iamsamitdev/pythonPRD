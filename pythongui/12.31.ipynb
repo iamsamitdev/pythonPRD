{
 "cells": [
  {
   "cell_type": "code",
   "execution_count": 1,
   "metadata": {},
   "outputs": [],
   "source": [
    "from tkinter import *\n",
    "from tkinter import ttk\n",
    "\n",
    "mainfrm = Tk()\n",
    "ttk.Style().configure(\"s1.TPanedwindow\", background=\"red\")\n",
    "ttk.Style().configure(\"s2.TPanedwindow\", background=\"green\")\n",
    "\n",
    "pnwLeft = ttk.PanedWindow(mainfrm, height=150,\n",
    "                          width=100, style=\"s1.TPanedwindow\")\n",
    "pnwLeft.pack(side=\"left\")\n",
    "pnwright = ttk.PanedWindow(mainfrm, height=150,\n",
    "                          width=100, style=\"s2.TPanedwindow\")\n",
    "pnwright.pack(side=\"right\")\n",
    "\n",
    "mainfrm.mainloop()"
   ]
  },
  {
   "cell_type": "code",
   "execution_count": null,
   "metadata": {},
   "outputs": [],
   "source": []
  }
 ],
 "metadata": {
  "kernelspec": {
   "display_name": "Python 3",
   "language": "python",
   "name": "python3"
  },
  "language_info": {
   "codemirror_mode": {
    "name": "ipython",
    "version": 3
   },
   "file_extension": ".py",
   "mimetype": "text/x-python",
   "name": "python",
   "nbconvert_exporter": "python",
   "pygments_lexer": "ipython3",
   "version": "3.7.4"
  }
 },
 "nbformat": 4,
 "nbformat_minor": 2
}
