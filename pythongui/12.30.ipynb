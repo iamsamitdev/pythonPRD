{
 "cells": [
  {
   "cell_type": "code",
   "execution_count": 1,
   "metadata": {},
   "outputs": [],
   "source": [
    "from tkinter import *\n",
    "from tkinter import ttk\n",
    "\n",
    "mainfrm = Tk()\n",
    "\n",
    "frmTab1 = ttk.Frame(mainfrm)\n",
    "frmTab2 = ttk.Frame(mainfrm)\n",
    "ntb = ttk.Notebook(mainfrm, height=100, width=100)\n",
    "ntb.add(frmTab1, text=\"ข้อมูลทั่วไป\")\n",
    "ntb.add(frmTab2, text=\"ข้อมูลส่วนตัว\")\n",
    "\n",
    "ntb.pack(padx=20, pady=20)\n",
    "\n",
    "mainfrm.mainloop()"
   ]
  },
  {
   "cell_type": "code",
   "execution_count": null,
   "metadata": {},
   "outputs": [],
   "source": []
  }
 ],
 "metadata": {
  "kernelspec": {
   "display_name": "Python 3",
   "language": "python",
   "name": "python3"
  },
  "language_info": {
   "codemirror_mode": {
    "name": "ipython",
    "version": 3
   },
   "file_extension": ".py",
   "mimetype": "text/x-python",
   "name": "python",
   "nbconvert_exporter": "python",
   "pygments_lexer": "ipython3",
   "version": "3.7.4"
  }
 },
 "nbformat": 4,
 "nbformat_minor": 2
}
