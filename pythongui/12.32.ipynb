{
 "cells": [
  {
   "cell_type": "code",
   "execution_count": 1,
   "metadata": {},
   "outputs": [],
   "source": [
    "from tkinter import *\n",
    "from tkinter import ttk\n",
    "mainfrm = Tk()\n",
    "\n",
    "    # Progress Bar แบบ Determinate คือ การแสดงผลให้เห็นความคืบหน้า\n",
    "    # โดยแสดงแถบสีให้เห็นตั้งแต่เริ่มต้นจนเสร็จสิ้น (0-100%)\n",
    "pgb1 = ttk.Progressbar(mainfrm, mode=\"determinate\", length=200)\n",
    "pgb1.pack(padx =10, pady=10)\n",
    "\n",
    "    # Progress Bar แบบ Indeterminate คือ การไม่แสดงผลให้เห็นความคืบหน้า\n",
    "    # แต่แสดงแถบสีให้เห็นว่ามีการประมวลผลอยู่\n",
    "pgb2 = ttk.Progressbar(mainfrm, mode=\"indeterminate\", length=200)\n",
    "pgb2.pack(padx =10, pady=10)\n",
    "\n",
    "pgb1.start()\n",
    "pgb2.start(100)\n",
    "\n",
    "mainfrm.mainloop()"
   ]
  },
  {
   "cell_type": "code",
   "execution_count": null,
   "metadata": {},
   "outputs": [],
   "source": []
  }
 ],
 "metadata": {
  "kernelspec": {
   "display_name": "Python 3",
   "language": "python",
   "name": "python3"
  },
  "language_info": {
   "codemirror_mode": {
    "name": "ipython",
    "version": 3
   },
   "file_extension": ".py",
   "mimetype": "text/x-python",
   "name": "python",
   "nbconvert_exporter": "python",
   "pygments_lexer": "ipython3",
   "version": "3.7.4"
  }
 },
 "nbformat": 4,
 "nbformat_minor": 2
}
