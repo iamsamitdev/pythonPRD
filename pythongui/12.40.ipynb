{
 "cells": [
  {
   "cell_type": "code",
   "execution_count": null,
   "metadata": {},
   "outputs": [],
   "source": [
    "import tkinter as tk\n",
    "mainframe = tk.Tk()\n",
    "mainframe.title(\"Main Frame\")\n",
    "\n",
    "tp = tk.Toplevel()\n",
    "tp.title(\"Toplevel Frame\")\n",
    "lbl = tk.Label(tp, text=\"This is Toplevel widget.\")\n",
    "lbl.pack(padx=50, pady=50)\n",
    "\n",
    "mainframe.mainloop()"
   ]
  },
  {
   "cell_type": "code",
   "execution_count": null,
   "metadata": {},
   "outputs": [],
   "source": []
  }
 ],
 "metadata": {
  "kernelspec": {
   "display_name": "Python 3",
   "language": "python",
   "name": "python3"
  },
  "language_info": {
   "codemirror_mode": {
    "name": "ipython",
    "version": 3
   },
   "file_extension": ".py",
   "mimetype": "text/x-python",
   "name": "python",
   "nbconvert_exporter": "python",
   "pygments_lexer": "ipython3",
   "version": "3.7.4"
  }
 },
 "nbformat": 4,
 "nbformat_minor": 2
}
