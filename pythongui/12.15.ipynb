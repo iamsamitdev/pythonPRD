{
 "cells": [
  {
   "cell_type": "code",
   "execution_count": 2,
   "metadata": {},
   "outputs": [],
   "source": [
    "import tkinter as tk\n",
    "from tkinter import ttk\n",
    "\n",
    "mainfrm = tk.Tk()\n",
    "ttk.Frame(height=110, width=260).pack()\n",
    "imgSave = tk.PhotoImage(file=\"D:\\PythonFiles\\img\\save.png\")\n",
    "imgClose = tk.PhotoImage(file=\"D:\\PythonFiles\\img\\close.png\")\n",
    "imgPrinter = tk.PhotoImage(file=\"D:\\PythonFiles\\img\\printer.png\")\n",
    "\n",
    "ttk.Button(mainfrm, text=\"Save\", image=imgSave, \n",
    "           compound=\"top\").place(x=10, y=10)\n",
    "ttk.Button(mainfrm, text=\"Close\", image=imgClose, \n",
    "           compound=\"top\").place(x=100, y=10)\n",
    "ttk.Button(mainfrm, text=\"Print\", image=imgPrinter, \n",
    "           compound=\"top\").place(x=180, y=10)\n",
    "\n",
    "mainfrm.mainloop()"
   ]
  },
  {
   "cell_type": "code",
   "execution_count": null,
   "metadata": {},
   "outputs": [],
   "source": []
  },
  {
   "cell_type": "code",
   "execution_count": null,
   "metadata": {},
   "outputs": [],
   "source": []
  }
 ],
 "metadata": {
  "kernelspec": {
   "display_name": "Python 3",
   "language": "python",
   "name": "python3"
  },
  "language_info": {
   "codemirror_mode": {
    "name": "ipython",
    "version": 3
   },
   "file_extension": ".py",
   "mimetype": "text/x-python",
   "name": "python",
   "nbconvert_exporter": "python",
   "pygments_lexer": "ipython3",
   "version": "3.7.4"
  }
 },
 "nbformat": 4,
 "nbformat_minor": 2
}
