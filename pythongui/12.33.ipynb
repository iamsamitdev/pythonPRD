{
 "cells": [
  {
   "cell_type": "code",
   "execution_count": 7,
   "metadata": {},
   "outputs": [],
   "source": [
    "from tkinter import *\n",
    "from tkinter import ttk\n",
    "\n",
    "mainfrm = Tk()\n",
    "lblfrm = ttk.LabelFrame(mainfrm, text=\"Programming Language\")\n",
    "lblfrm.pack(padx=10, pady=10)\n",
    "strValue = StringVar()\n",
    "\n",
    "rdoPy = ttk.Radiobutton(lblfrm, text=\"Python\", value=\"Python\", \n",
    "                        variable=strValue).grid(column=0,\n",
    "                        row=0, sticky=\"w\", padx=20)\n",
    "rdoR = ttk.Radiobutton(lblfrm, text=\"R\", value=\"R\",\n",
    "                        variable=strValue).grid(column=0,\n",
    "                        row=1, sticky=\"w\", padx=20)\n",
    "rdoSc = ttk.Radiobutton(lblfrm, text=\"Scala\", value=\"Scala\",\n",
    "                        variable=strValue).grid(column=0,\n",
    "                        row=2, sticky=\"w\", padx=20)\n",
    "rdoJa = ttk.Radiobutton(lblfrm, text=\"Java\", value=\"Java\",\n",
    "                        variable=strValue).grid(column=0,   \n",
    "                        row=3, sticky=\"w\", padx=20)\n",
    "\n",
    "value = strValue.get()\n",
    "# นำค่าไปใช้โดยใช้คำสั่ง strValue.get() โดย strValue\n",
    "# คือชื่อตัวแปรที่สร้างไว้สำหรับเก็บค่า Radio button (บรรทัดที่ 7)\n",
    "\n",
    "mainfrm.mainloop() "
   ]
  },
  {
   "cell_type": "code",
   "execution_count": null,
   "metadata": {},
   "outputs": [],
   "source": []
  }
 ],
 "metadata": {
  "kernelspec": {
   "display_name": "Python 3",
   "language": "python",
   "name": "python3"
  },
  "language_info": {
   "codemirror_mode": {
    "name": "ipython",
    "version": 3
   },
   "file_extension": ".py",
   "mimetype": "text/x-python",
   "name": "python",
   "nbconvert_exporter": "python",
   "pygments_lexer": "ipython3",
   "version": "3.7.4"
  }
 },
 "nbformat": 4,
 "nbformat_minor": 2
}
