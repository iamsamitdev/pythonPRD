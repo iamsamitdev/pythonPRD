{
 "cells": [
  {
   "cell_type": "code",
   "execution_count": 1,
   "metadata": {},
   "outputs": [],
   "source": [
    "import tkinter as tk\n",
    "from tkinter import ttk\n",
    "\n",
    "mainfrm = tk.Tk()\n",
    "\n",
    "mbtFile = ttk.Menubutton(mainfrm, text=\"File\", width=10)\n",
    "mbtFile.grid(column=0,row=0)\n",
    "mbtHelp = ttk.Menubutton(mainfrm, text=\"Help\", width=10)\n",
    "mbtHelp.grid(column=3,row=0)\n",
    "\n",
    "mnFile = tk.Menu(mbtFile, tearoff=0)\n",
    "mbtFile[\"menu\"] = mnFile\n",
    "mnFile.add_checkbutton(label=\"New\")\n",
    "mnFile.add_checkbutton(label=\"Open\")\n",
    "mnFile.add_checkbutton(label=\"Save\")\n",
    "mnFile.add_checkbutton(label=\"Exit\")\n",
    "\n",
    "mnHelp = tk.Menu(mbtHelp, tearoff=0)\n",
    "mbtHelp[\"menu\"] = mnHelp\n",
    "mnHelp.add_checkbutton(label=\"Help Topics\")\n",
    "mnHelp.add_checkbutton(label=\"About\")\n",
    "\n",
    "mainfrm.mainloop()"
   ]
  },
  {
   "cell_type": "code",
   "execution_count": null,
   "metadata": {},
   "outputs": [],
   "source": []
  }
 ],
 "metadata": {
  "kernelspec": {
   "display_name": "Python 3",
   "language": "python",
   "name": "python3"
  },
  "language_info": {
   "codemirror_mode": {
    "name": "ipython",
    "version": 3
   },
   "file_extension": ".py",
   "mimetype": "text/x-python",
   "name": "python",
   "nbconvert_exporter": "python",
   "pygments_lexer": "ipython3",
   "version": "3.7.4"
  }
 },
 "nbformat": 4,
 "nbformat_minor": 2
}
