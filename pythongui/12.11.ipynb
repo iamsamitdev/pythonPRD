{
 "cells": [
  {
   "cell_type": "code",
   "execution_count": 1,
   "metadata": {},
   "outputs": [],
   "source": [
    "import tkinter as tk\n",
    "\n",
    "mainfrm = tk.Tk()\n",
    "tk.Frame(height=150, width=290).pack()\n",
    "\n",
    "tk.Button(mainfrm, height=30, width=30, \n",
    "          bitmap=\"error\").place(x=50, y=60)\n",
    "tk.Button(mainfrm, height=30, width=30, \n",
    "          bitmap=\"hourglass\").place(x=90, y=60)\n",
    "tk.Button(mainfrm, height=30, width=30, \n",
    "          bitmap=\"info\").place(x=130, y=60)\n",
    "tk.Button(mainfrm, height=30, width=30, \n",
    "          bitmap=\"question\").place(x=170, y=60)\n",
    "tk.Button(mainfrm, height=30, width=30, \n",
    "          bitmap=\"warning\").place(x=210, y=60)\n",
    "\n",
    "mainfrm.mainloop()"
   ]
  },
  {
   "cell_type": "code",
   "execution_count": null,
   "metadata": {},
   "outputs": [],
   "source": []
  }
 ],
 "metadata": {
  "kernelspec": {
   "display_name": "Python 3",
   "language": "python",
   "name": "python3"
  },
  "language_info": {
   "codemirror_mode": {
    "name": "ipython",
    "version": 3
   },
   "file_extension": ".py",
   "mimetype": "text/x-python",
   "name": "python",
   "nbconvert_exporter": "python",
   "pygments_lexer": "ipython3",
   "version": "3.7.4"
  }
 },
 "nbformat": 4,
 "nbformat_minor": 2
}
