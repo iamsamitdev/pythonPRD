{
 "cells": [
  {
   "cell_type": "code",
   "execution_count": 1,
   "metadata": {},
   "outputs": [],
   "source": [
    "import tkinter as tk\n",
    "mainframe = tk.Tk()\n",
    "# สร้าง Spinbox widget เริ่มต้นจากตัวเลขที่ 0 จนถึง 20 ทศนิยม 2 ตำแหน่ง\n",
    "spb = tk.Spinbox(mainframe, from_=0, to=20, format=\"%10.2f\")\n",
    "spb.grid(column=0, row=0, padx=30, pady=30)\n",
    "\n",
    "mainframe.mainloop()"
   ]
  },
  {
   "cell_type": "code",
   "execution_count": null,
   "metadata": {},
   "outputs": [],
   "source": []
  }
 ],
 "metadata": {
  "kernelspec": {
   "display_name": "Python 3",
   "language": "python",
   "name": "python3"
  },
  "language_info": {
   "codemirror_mode": {
    "name": "ipython",
    "version": 3
   },
   "file_extension": ".py",
   "mimetype": "text/x-python",
   "name": "python",
   "nbconvert_exporter": "python",
   "pygments_lexer": "ipython3",
   "version": "3.7.4"
  }
 },
 "nbformat": 4,
 "nbformat_minor": 2
}
