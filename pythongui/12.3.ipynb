{
 "cells": [
  {
   "cell_type": "code",
   "execution_count": 2,
   "metadata": {},
   "outputs": [],
   "source": [
    "from tkinter import *\n",
    "from tkinter import ttk\n",
    "mainfrm = Tk()\n",
    "mainfrm.title(\"การจัดตำแหน่งด้วยเมธอด grid()\")\n",
    "ttk.Label(mainfrm, text=\"ชื่อ :\").grid(column=0, row=0, \n",
    "                                       padx=2, pady=2, sticky=\"e\")\n",
    "ttk.Label(mainfrm, text=\"นามสุกล :\").grid(column=0, row=1, \n",
    "                                          padx=2, pady=2, sticky=\"e\")\n",
    "ttk.Label(mainfrm, text=\"ที่อยู่ :\").grid(column=0, row=2, \n",
    "                                          padx=2, pady=2, sticky=\"e\")\n",
    "\n",
    "ttk.Entry(mainfrm).grid(column=1, row=0)\n",
    "ttk.Entry(mainfrm).grid(column=1, row=1)\n",
    "ttk.Entry(mainfrm).grid(column=1, row=2)\n",
    "\n",
    "ttk.Label(mainfrm, text=\"เพศ:\").grid(column=2, row=0, columnspan=2)\n",
    "ttk.Checkbutton(mainfrm, text=\"ชาย\").grid(column=2, row=1, padx=20)\n",
    "ttk.Checkbutton(mainfrm, text=\"หญิง\").grid(column=3, row=1,  padx=20)\n",
    "ttk.Button(mainfrm, text=\"ลงทะเบียน\").grid(column=1, row=3, pady=10)\n",
    "ttk.Button(mainfrm, text=\"ยกเลิก\").grid(column=2, row=3, pady=10)\n",
    "\n",
    "mainfrm.mainloop()"
   ]
  },
  {
   "cell_type": "code",
   "execution_count": null,
   "metadata": {},
   "outputs": [],
   "source": []
  }
 ],
 "metadata": {
  "kernelspec": {
   "display_name": "Python 3",
   "language": "python",
   "name": "python3"
  },
  "language_info": {
   "codemirror_mode": {
    "name": "ipython",
    "version": 3
   },
   "file_extension": ".py",
   "mimetype": "text/x-python",
   "name": "python",
   "nbconvert_exporter": "python",
   "pygments_lexer": "ipython3",
   "version": "3.7.4"
  }
 },
 "nbformat": 4,
 "nbformat_minor": 2
}
