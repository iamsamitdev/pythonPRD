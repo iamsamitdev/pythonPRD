{
 "cells": [
  {
   "cell_type": "code",
   "execution_count": 1,
   "metadata": {},
   "outputs": [],
   "source": [
    "import tkinter as tk\n",
    "\n",
    "frame = tk.Tk()\n",
    "lblfrm = tk.LabelFrame(frame, text=\"Countries\", padx=5, pady=5)\n",
    "lblfrm.pack()\n",
    "\n",
    "lbCoun = tk.Listbox(lblfrm, height=5)\n",
    "lbCoun.insert(1, \"Australia\")\n",
    "lbCoun.insert(2, \"Belize\")\n",
    "lbCoun.insert(3, \"Colombia\")\n",
    "lbCoun.insert(4, \"Sweden\")\n",
    "lbCoun.insert(5, \"Thailand\")\n",
    "lbCoun.pack()\n",
    "\n",
    "frame.mainloop()"
   ]
  },
  {
   "cell_type": "code",
   "execution_count": null,
   "metadata": {},
   "outputs": [],
   "source": []
  }
 ],
 "metadata": {
  "kernelspec": {
   "display_name": "Python 3",
   "language": "python",
   "name": "python3"
  },
  "language_info": {
   "codemirror_mode": {
    "name": "ipython",
    "version": 3
   },
   "file_extension": ".py",
   "mimetype": "text/x-python",
   "name": "python",
   "nbconvert_exporter": "python",
   "pygments_lexer": "ipython3",
   "version": "3.7.4"
  }
 },
 "nbformat": 4,
 "nbformat_minor": 2
}
