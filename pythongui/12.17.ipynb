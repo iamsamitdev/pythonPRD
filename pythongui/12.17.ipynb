{
 "cells": [
  {
   "cell_type": "code",
   "execution_count": 1,
   "metadata": {},
   "outputs": [],
   "source": [
    "from tkinter import *\n",
    "from tkinter import ttk\n",
    "mainfrm = Tk()\n",
    "\n",
    "chkM = ttk.Checkbutton(mainfrm, text=\"ชาย\").grid(column=0, \n",
    "                                                 row=0, padx=20, pady=20)\n",
    "chkF = ttk.Checkbutton(mainfrm, text=\"หญิง\").grid(column=1, \n",
    "                                                 row=0, padx=20, pady=20)\n",
    "\n",
    "mainfrm.mainloop()"
   ]
  },
  {
   "cell_type": "code",
   "execution_count": null,
   "metadata": {},
   "outputs": [],
   "source": []
  }
 ],
 "metadata": {
  "kernelspec": {
   "display_name": "Python 3",
   "language": "python",
   "name": "python3"
  },
  "language_info": {
   "codemirror_mode": {
    "name": "ipython",
    "version": 3
   },
   "file_extension": ".py",
   "mimetype": "text/x-python",
   "name": "python",
   "nbconvert_exporter": "python",
   "pygments_lexer": "ipython3",
   "version": "3.7.4"
  }
 },
 "nbformat": 4,
 "nbformat_minor": 2
}
