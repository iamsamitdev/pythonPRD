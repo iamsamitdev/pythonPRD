{
 "cells": [
  {
   "cell_type": "code",
   "execution_count": 1,
   "metadata": {},
   "outputs": [],
   "source": [
    "from tkinter import *\n",
    "from tkinter import ttk\n",
    "mainfrm = Tk()\n",
    "\n",
    "trv = ttk.Treeview(mainfrm)\n",
    "trv.insert(\"\", 0, \"linuxOS\", text=\"Linux\")\n",
    "trv.insert(\"linuxOS\", 0, text=\"CentOS\")\n",
    "trv.insert(\"linuxOS\", 1, text=\"RedHad\")\n",
    "trv.insert(\"linuxOS\", 2, text=\"Ubuntu\")\n",
    "trv.insert(\"\", 1, \"winOS\", text=\"Windows\")\n",
    "trv.insert(\"winOS\", 0, text=\"Windows 7\")\n",
    "trv.insert(\"winOS\", 1, text=\"Windows 8\")\n",
    "trv.insert(\"winOS\", 2, text=\"Windwos 10\")\n",
    "trv.pack()\n",
    "\n",
    "mainfrm.mainloop()"
   ]
  },
  {
   "cell_type": "code",
   "execution_count": null,
   "metadata": {},
   "outputs": [],
   "source": []
  }
 ],
 "metadata": {
  "kernelspec": {
   "display_name": "Python 3",
   "language": "python",
   "name": "python3"
  },
  "language_info": {
   "codemirror_mode": {
    "name": "ipython",
    "version": 3
   },
   "file_extension": ".py",
   "mimetype": "text/x-python",
   "name": "python",
   "nbconvert_exporter": "python",
   "pygments_lexer": "ipython3",
   "version": "3.7.4"
  }
 },
 "nbformat": 4,
 "nbformat_minor": 2
}
