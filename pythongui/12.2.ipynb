{
 "cells": [
  {
   "cell_type": "code",
   "execution_count": 1,
   "metadata": {},
   "outputs": [],
   "source": [
    "from tkinter import * # โหลดโมดูล tkinter\n",
    "from tkinter import ttk # นำเข้าคลาส ttk\n",
    "mainFrm = Tk()\n",
    "mainFrm.title(\"โปรแกรมบวกเลข\")\n",
    "# สร้าง Label widget\n",
    "lblTitle = ttk.Label(mainFrm, text=\"โปรแกรมบวกเลข\", font='20')\n",
    "lblNum1 = ttk.Label(mainFrm, text=\"ป้อนตัวเลขที่ 1 :\")\n",
    "lblNum2 = ttk.Label(mainFrm, text=\"ป้อนตัวเลขที่ 2 :\")\n",
    "lblTotal = ttk.Label(mainFrm, text=\"ผลลัพธ์ :\")\n",
    "# จัดวางตำแหน่งให้กับ label แต่ละตัวด้วยเมธอด grid()  \n",
    "lblTitle.grid(column=0, columnspan=2, padx = 150, pady=10)\n",
    "lblNum1.grid(column=0, row=2, pady=5, sticky=\"NE\")\n",
    "lblNum2.grid(column=0, row=3, pady=5, sticky=\"NE\")\n",
    "lblTotal.grid(column=0, row=4, pady=5, sticky=\"NE\")\n",
    "# สร้าง Entry widget และจัดวางตำแหน่งด้วยเมธอด grid()\n",
    "entNum1 = ttk.Entry(mainFrm, width=25).grid(column=1, row=2, sticky=\"W\")\n",
    "entNum2 = ttk.Entry(mainFrm, width=25).grid(column=1, row=3, sticky=\"W\")\n",
    "entTotal = ttk.Entry(mainFrm, width=25).grid(column=1, row=4, sticky=\"W\")\n",
    "# สร้าง Button widget\n",
    "btnClick = ttk.Button(mainFrm, text=\"Click\", width=10)\n",
    "btnClear = ttk.Button(mainFrm, text=\"Clear\", width=10)\n",
    "# จัดวางตำแหน่งให้ Button widget แต่ละตัวด้วยเมธอด grid()\n",
    "btnClick.grid(column=0, row=5, pady=10, sticky=\"NE\")\n",
    "btnClear.grid(column=1, row=5, padx=10, sticky=\"W\")\n",
    "\n",
    "mainFrm.mainloop() # แสดงหน้า GUI ด้วยเมธอด mainloop()"
   ]
  },
  {
   "cell_type": "code",
   "execution_count": null,
   "metadata": {},
   "outputs": [],
   "source": []
  }
 ],
 "metadata": {
  "kernelspec": {
   "display_name": "Python 3",
   "language": "python",
   "name": "python3"
  },
  "language_info": {
   "codemirror_mode": {
    "name": "ipython",
    "version": 3
   },
   "file_extension": ".py",
   "mimetype": "text/x-python",
   "name": "python",
   "nbconvert_exporter": "python",
   "pygments_lexer": "ipython3",
   "version": "3.7.4"
  }
 },
 "nbformat": 4,
 "nbformat_minor": 2
}
