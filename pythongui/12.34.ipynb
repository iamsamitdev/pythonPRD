{
 "cells": [
  {
   "cell_type": "code",
   "execution_count": null,
   "metadata": {},
   "outputs": [],
   "source": [
    "from tkinter import *\n",
    "from tkinter import ttk\n",
    "\n",
    "mainfrm = Tk()\n",
    "lblfrm = ttk.LabelFrame(mainfrm, text=\"Set Scale\")\n",
    "lblfrm.pack()\n",
    "\n",
    "var = DoubleVar()\n",
    "scale = Scale(lblfrm, orient=VERTICAL, \n",
    "               variable=var).grid(column=0, row=0,sticky=\"W\")\n",
    "\n",
    "value = str(var.get()) \n",
    "# นำค่าไปใช้โดยใช้คำสั่ง var.get() โดย var\n",
    "# คือชื่อตัวแปรที่สร้างไว้สำหรับเก็บค่า Scale (บรรทัดที่ 8)\n",
    "\n",
    "mainfrm.mainloop() "
   ]
  },
  {
   "cell_type": "code",
   "execution_count": null,
   "metadata": {},
   "outputs": [],
   "source": []
  },
  {
   "cell_type": "code",
   "execution_count": null,
   "metadata": {},
   "outputs": [],
   "source": []
  }
 ],
 "metadata": {
  "kernelspec": {
   "display_name": "Python 3",
   "language": "python",
   "name": "python3"
  },
  "language_info": {
   "codemirror_mode": {
    "name": "ipython",
    "version": 3
   },
   "file_extension": ".py",
   "mimetype": "text/x-python",
   "name": "python",
   "nbconvert_exporter": "python",
   "pygments_lexer": "ipython3",
   "version": "3.7.4"
  }
 },
 "nbformat": 4,
 "nbformat_minor": 2
}
