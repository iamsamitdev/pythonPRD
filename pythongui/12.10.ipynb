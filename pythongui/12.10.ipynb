{
 "cells": [
  {
   "cell_type": "code",
   "execution_count": 1,
   "metadata": {},
   "outputs": [],
   "source": [
    "import tkinter as tk\n",
    "mainfrm = tk.Tk()\n",
    "tk.Frame(height=120, width=290).pack()\n",
    "\n",
    "tk.Button(mainfrm, text=\"Enter\", height=3, width=10, \n",
    "          relief=\"flat\").place(x=10, y=30)\n",
    "tk.Button(mainfrm, text=\"Cancel\", height=3, width=10, \n",
    "          relief=\"sunken\").place(x=90, y=30)\n",
    "tk.Button(mainfrm, text=\"Cancel\", height=3, width=10, \n",
    "          relief=\"ridge\").place(x=180, y=30)\n",
    "\n",
    "mainfrm.mainloop()"
   ]
  },
  {
   "cell_type": "code",
   "execution_count": null,
   "metadata": {},
   "outputs": [],
   "source": []
  }
 ],
 "metadata": {
  "kernelspec": {
   "display_name": "Python 3",
   "language": "python",
   "name": "python3"
  },
  "language_info": {
   "codemirror_mode": {
    "name": "ipython",
    "version": 3
   },
   "file_extension": ".py",
   "mimetype": "text/x-python",
   "name": "python",
   "nbconvert_exporter": "python",
   "pygments_lexer": "ipython3",
   "version": "3.7.4"
  }
 },
 "nbformat": 4,
 "nbformat_minor": 2
}
