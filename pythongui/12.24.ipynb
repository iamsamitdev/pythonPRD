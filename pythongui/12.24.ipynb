{
 "cells": [
  {
   "cell_type": "code",
   "execution_count": 1,
   "metadata": {},
   "outputs": [],
   "source": [
    "from tkinter import *\n",
    "from tkinter import ttk\n",
    "\n",
    "mainfrm = Tk()\n",
    "lblFrame = ttk.LabelFrame(mainfrm, text=\"Login\")\n",
    "lblFrame.pack(padx=10, pady=10)\n",
    "\n",
    "lblName = ttk.Label(lblFrame, text=\"User name:\").grid(column=0,row=0)\n",
    "lblPass = ttk.Label(lblFrame, text=\"Password:\").grid(column=0,row=1)\n",
    "\n",
    "entName = ttk.Entry(lblFrame,).grid(column=1,row=0)\n",
    "entPass = ttk.Entry(lblFrame,).grid(column=1,row=1)\n",
    "\n",
    "btnEnter = ttk.Button(lblFrame, text=\"Enter\").grid(column=0,\n",
    "                                                   row=3, pady=5)\n",
    "btnCancel = ttk.Button(lblFrame, text=\"Cancel\").grid(column=1,\n",
    "                                                   row=3)\n",
    "\n",
    "mainfrm.mainloop()"
   ]
  },
  {
   "cell_type": "code",
   "execution_count": null,
   "metadata": {},
   "outputs": [],
   "source": []
  }
 ],
 "metadata": {
  "kernelspec": {
   "display_name": "Python 3",
   "language": "python",
   "name": "python3"
  },
  "language_info": {
   "codemirror_mode": {
    "name": "ipython",
    "version": 3
   },
   "file_extension": ".py",
   "mimetype": "text/x-python",
   "name": "python",
   "nbconvert_exporter": "python",
   "pygments_lexer": "ipython3",
   "version": "3.7.4"
  }
 },
 "nbformat": 4,
 "nbformat_minor": 2
}
