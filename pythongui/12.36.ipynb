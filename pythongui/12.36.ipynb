{
 "cells": [
  {
   "cell_type": "code",
   "execution_count": 1,
   "metadata": {},
   "outputs": [],
   "source": [
    "from tkinter import *\n",
    "from tkinter import ttk\n",
    "mainfrm = Tk()\n",
    "\n",
    "ttk.Label(mainfrm, text=\"Top\").grid(column=0, row=0, padx=100, pady=5)\n",
    "ttk.Separator(mainfrm,).grid(column=0, row=1, sticky=\"we\", pady=5)\n",
    "ttk.Label(mainfrm, text=\"Bottom\").grid(column=0, row=2, padx=100, pady=5)\n",
    "\n",
    "mainfrm.mainloop()"
   ]
  },
  {
   "cell_type": "code",
   "execution_count": null,
   "metadata": {},
   "outputs": [],
   "source": []
  }
 ],
 "metadata": {
  "kernelspec": {
   "display_name": "Python 3",
   "language": "python",
   "name": "python3"
  },
  "language_info": {
   "codemirror_mode": {
    "name": "ipython",
    "version": 3
   },
   "file_extension": ".py",
   "mimetype": "text/x-python",
   "name": "python",
   "nbconvert_exporter": "python",
   "pygments_lexer": "ipython3",
   "version": "3.7.4"
  }
 },
 "nbformat": 4,
 "nbformat_minor": 2
}
