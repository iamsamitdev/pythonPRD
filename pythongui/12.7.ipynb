{
 "cells": [
  {
   "cell_type": "code",
   "execution_count": 1,
   "metadata": {},
   "outputs": [],
   "source": [
    "from tkinter import *\n",
    "from tkinter import ttk\n",
    "\n",
    "mainfrm = Tk()\n",
    "ttk.Frame(mainfrm, height=80, width=280).pack() # กำหนดขนาดความสูงของ Frame\n",
    "# สร้างปุ่ม Button widget และจัดตำแหน่งปุ่มทั้ง 3 ปุ่ม โดยใช้เมธอด place()\n",
    "btnEnter = ttk.Button(mainfrm, text=\"Enter\").place(x=10, y=30)\n",
    "btnCancel = ttk.Button(mainfrm, text=\"Cencel\").place(x=100, y=30)\n",
    "btnClear = ttk.Button(mainfrm, text=\"Clear\").place(x=190, y=30)\n",
    "\n",
    "mainfrm.mainloop()"
   ]
  },
  {
   "cell_type": "code",
   "execution_count": null,
   "metadata": {},
   "outputs": [],
   "source": []
  }
 ],
 "metadata": {
  "kernelspec": {
   "display_name": "Python 3",
   "language": "python",
   "name": "python3"
  },
  "language_info": {
   "codemirror_mode": {
    "name": "ipython",
    "version": 3
   },
   "file_extension": ".py",
   "mimetype": "text/x-python",
   "name": "python",
   "nbconvert_exporter": "python",
   "pygments_lexer": "ipython3",
   "version": "3.7.4"
  }
 },
 "nbformat": 4,
 "nbformat_minor": 2
}
