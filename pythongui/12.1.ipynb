{
 "cells": [
  {
   "cell_type": "code",
   "execution_count": 2,
   "metadata": {},
   "outputs": [],
   "source": [
    "from tkinter import * # โหลดโมดูล tkinter เข้ามายังโปรแกรมทุกคลาส\n",
    "mainFrm = Tk() # สร้างออบเจ็ค mainfrm\n",
    "mainFrm.title(\"การเขียนโปรแกรม GUI ด้วยภาษาไพธอน\") # แสดงข้อความที่ title bar\n",
    "mainFrm.mainloop() # คำสั่งแสดงผลหน้า GUI"
   ]
  },
  {
   "cell_type": "code",
   "execution_count": null,
   "metadata": {},
   "outputs": [],
   "source": []
  }
 ],
 "metadata": {
  "kernelspec": {
   "display_name": "Python 3",
   "language": "python",
   "name": "python3"
  },
  "language_info": {
   "codemirror_mode": {
    "name": "ipython",
    "version": 3
   },
   "file_extension": ".py",
   "mimetype": "text/x-python",
   "name": "python",
   "nbconvert_exporter": "python",
   "pygments_lexer": "ipython3",
   "version": "3.7.4"
  }
 },
 "nbformat": 4,
 "nbformat_minor": 2
}
