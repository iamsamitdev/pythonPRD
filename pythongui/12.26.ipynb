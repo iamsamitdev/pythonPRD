{
 "cells": [
  {
   "cell_type": "code",
   "execution_count": 1,
   "metadata": {},
   "outputs": [],
   "source": [
    "import tkinter as tk\n",
    "mainframe = tk.Tk()\n",
    "menubar = tk.Menu(mainframe)\n",
    "\n",
    "file = tk.Menu(menubar, tearoff=0)\n",
    "file.add_command(label=\"New\")\n",
    "file.add_command(label=\"Open\")\n",
    "file.add_command(label=\"Save\")\n",
    "file.add_separator()\n",
    "file.add_command(label=\"Exit\")\n",
    "menubar.add_cascade(label=\"File\", menu=file)\n",
    "\n",
    "_help = tk.Menu(menubar, tearoff=0)\n",
    "_help.add_command(label=\"Help Topics\")\n",
    "_help.add_command(label=\"Shortcut key\")\n",
    "_help.add_separator()\n",
    "_help.add_command(label=\"About\")\n",
    "menubar.add_cascade(label=\"Help\", menu=_help)\n",
    "\n",
    "mainframe.config(menu=menubar)\n",
    "mainframe.mainloop()"
   ]
  },
  {
   "cell_type": "code",
   "execution_count": null,
   "metadata": {},
   "outputs": [],
   "source": []
  }
 ],
 "metadata": {
  "kernelspec": {
   "display_name": "Python 3",
   "language": "python",
   "name": "python3"
  },
  "language_info": {
   "codemirror_mode": {
    "name": "ipython",
    "version": 3
   },
   "file_extension": ".py",
   "mimetype": "text/x-python",
   "name": "python",
   "nbconvert_exporter": "python",
   "pygments_lexer": "ipython3",
   "version": "3.7.4"
  }
 },
 "nbformat": 4,
 "nbformat_minor": 2
}
