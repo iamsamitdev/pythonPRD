{
 "cells": [
  {
   "cell_type": "code",
   "execution_count": 1,
   "metadata": {},
   "outputs": [],
   "source": [
    "from tkinter import *\n",
    "from tkinter import ttk\n",
    "\n",
    "mainfrm = Tk()\n",
    "ttk.Frame(height=80, width=200).pack()\n",
    "\n",
    "ttk.Style().configure(\"enter.TButton\", font=(\"Times\", \"10\", \"bold\")) \n",
    "        # ข้อความแสดงตัวหนา\n",
    "ttk.Style().configure(\"cancel.TButton\", font=(\"Times\", \"10\",\"italic\") )\n",
    "        # ข้อความแสดงตัวเอียง\n",
    "\n",
    "btnEnter = ttk.Button(mainfrm, text=\"Enter\",  \n",
    "                      style=\"enter.TButton\").place(x=10, y=30)\n",
    "btnCancel = ttk.Button(mainfrm, text=\"Cencel\",  \n",
    "                       style=\"cancel.TButton\").place(x=100, y=30)\n",
    "\n",
    "mainfrm.mainloop()"
   ]
  },
  {
   "cell_type": "code",
   "execution_count": null,
   "metadata": {},
   "outputs": [],
   "source": []
  }
 ],
 "metadata": {
  "kernelspec": {
   "display_name": "Python 3",
   "language": "python",
   "name": "python3"
  },
  "language_info": {
   "codemirror_mode": {
    "name": "ipython",
    "version": 3
   },
   "file_extension": ".py",
   "mimetype": "text/x-python",
   "name": "python",
   "nbconvert_exporter": "python",
   "pygments_lexer": "ipython3",
   "version": "3.7.4"
  }
 },
 "nbformat": 4,
 "nbformat_minor": 2
}
