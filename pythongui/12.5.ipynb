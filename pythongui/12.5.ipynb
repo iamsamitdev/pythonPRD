{
 "cells": [
  {
   "cell_type": "code",
   "execution_count": 3,
   "metadata": {},
   "outputs": [],
   "source": [
    "from tkinter import *\n",
    "from tkinter import ttk\n",
    "\n",
    "mainfrm = Tk()\n",
    "ttk.Frame(mainfrm, height=180, width=250).pack()\n",
    "\n",
    "ttk.Button(mainfrm, text=\"Enter\").place(height=30, width=80)\n",
    "ttk.Button(mainfrm, text=\"Cancel\").place(height=30, width=80, x=85, y=0)\n",
    "ttk.Button(mainfrm, text=\"Clear\").place(height=30, width=80, x=170, y=0)\n",
    "\n",
    "ttk.Button(mainfrm, text=\"Enter\").place(height=30, width=80, x=85, y=40)\n",
    "ttk.Button(mainfrm, text=\"Cancel\").place(height=30, width=80, x=85, y=70)\n",
    "ttk.Button(mainfrm, text=\"Clear\").place(height=30, width=80, x=85, y=100)\n",
    "\n",
    "ttk.Button(mainfrm, text=\"Enter\").place(height=30, width=80, x=0, y=140)\n",
    "ttk.Button(mainfrm, text=\"Cancel\").place(height=30, width=80, x=85, y=140)\n",
    "ttk.Button(mainfrm, text=\"Cancel\").place(height=30, width=80, x=170, y=140)\n",
    "\n",
    "mainfrm.mainloop()"
   ]
  },
  {
   "cell_type": "code",
   "execution_count": null,
   "metadata": {},
   "outputs": [],
   "source": []
  }
 ],
 "metadata": {
  "kernelspec": {
   "display_name": "Python 3",
   "language": "python",
   "name": "python3"
  },
  "language_info": {
   "codemirror_mode": {
    "name": "ipython",
    "version": 3
   },
   "file_extension": ".py",
   "mimetype": "text/x-python",
   "name": "python",
   "nbconvert_exporter": "python",
   "pygments_lexer": "ipython3",
   "version": "3.7.4"
  }
 },
 "nbformat": 4,
 "nbformat_minor": 2
}
